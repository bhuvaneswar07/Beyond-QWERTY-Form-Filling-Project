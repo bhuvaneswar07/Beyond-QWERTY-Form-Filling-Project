{
  "nbformat": 4,
  "nbformat_minor": 0,
  "metadata": {
    "colab": {
      "provenance": [],
      "toc_visible": true
    },
    "kernelspec": {
      "name": "python3",
      "display_name": "Python 3"
    },
    "language_info": {
      "name": "python"
    }
  },
  "cells": [
    {
      "cell_type": "markdown",
      "source": [
        "**What is PySpark?**\n",
        "\n",
        "PySpark is the Python API for Apache Spark, an open-source distributed computing framework designed for big data processing and analytics. It allows you to leverage the power of Spark using Python, making it easier to perform distributed data processing on large datasets.\n",
        "\n",
        "**Key Features of PySpark:**\n",
        "\n",
        "**Fast Data Processing:** Built for handling big data efficiently using in-memory computations.\n",
        "\n",
        "**Distributed Computing:** Distributes tasks across a cluster of machines for parallel processing.\n",
        "\n",
        "**Support for Multiple Data Sources:** Works with structured and unstructured data, including CSV, JSON, Parquet, Hive, HDFS, etc.\n",
        "\n",
        "**APIs:**\n",
        "\n",
        "Spark SQL for structured data.\n",
        "\n",
        "DataFrame API for data manipulation.\n",
        "\n",
        "Spark MLlib for machine learning.\n",
        "\n",
        "GraphX for graph processing.\n",
        "\n",
        "**Scalability:** Scales from a single machine to thousands of machines.\n",
        "\n",
        "**Why Use PySpark?**\n",
        "\n",
        "**Big Data:** Designed to process huge datasets efficiently.\n",
        "\n",
        "**Ease of Use:** Combines Spark's performance with Python's simplicity.\n",
        "\n",
        "**Integrations:** Works seamlessly with Hadoop, HDFS, and other big data tools.\n",
        "\n",
        "**Machine Learning: **Provides MLlib, a distributed machine learning library.\n",
        "\n",
        "**Core Components of PySpark:**\n",
        "\n",
        "**RDD (Resilient Distributed Dataset):**\n",
        "\n",
        "Low-level, immutable distributed collection of data. Provides fault tolerance and distributed processing.\n",
        "\n",
        "**DataFrame:** Higher-level abstraction of RDDs. Similar to Pandas DataFrame but distributed across a cluster. Optimized for query execution using Catalyst Optimizer.\n",
        "\n",
        "**Spark SQL:** Provides SQL-like interface for querying structured data.\n",
        "\n",
        "**Spark MLlib:** A scalable library for machine learning algorithms.\n",
        "\n",
        "**Spark Streaming:** Processes real-time data streams."
      ],
      "metadata": {
        "id": "ncV_nRcAkKoX"
      }
    },
    {
      "cell_type": "markdown",
      "source": [
        "**1. Installation:**"
      ],
      "metadata": {
        "id": "axizYWivmqc6"
      }
    },
    {
      "cell_type": "code",
      "source": [
        "pip install pyspark"
      ],
      "metadata": {
        "id": "qzoDPid4mubw"
      },
      "execution_count": null,
      "outputs": []
    },
    {
      "cell_type": "markdown",
      "source": [
        "\n",
        "**2. Running PySpark:**"
      ],
      "metadata": {
        "id": "dpOmhO_EmyNk"
      }
    },
    {
      "cell_type": "code",
      "source": [
        "pyspark"
      ],
      "metadata": {
        "id": "4tRmjac4m4LG"
      },
      "execution_count": null,
      "outputs": []
    },
    {
      "cell_type": "markdown",
      "source": [],
      "metadata": {
        "id": "sNVCP7DTm6-m"
      }
    }
  ]
}